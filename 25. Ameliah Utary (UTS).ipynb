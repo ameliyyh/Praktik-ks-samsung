{
 "cells": [
  {
   "cell_type": "markdown",
   "id": "e86fe051-65fe-4d4f-8046-1d37876d7b1b",
   "metadata": {},
   "source": [
    "# 25. Ameliah Utary - 220907501039"
   ]
  },
  {
   "cell_type": "markdown",
   "id": "9b3606b9-9a86-457f-9c33-98b22070e8b2",
   "metadata": {},
   "source": [
    "# UTS"
   ]
  },
  {
   "cell_type": "markdown",
   "id": "4c4634f5-79ca-4cf0-b009-b0ab676ae5d6",
   "metadata": {},
   "source": [
    "## Import library yang dibutuhkan"
   ]
  },
  {
   "cell_type": "code",
   "execution_count": 8,
   "id": "711db77e-4e9d-4de7-a5ad-ee513172170a",
   "metadata": {},
   "outputs": [],
   "source": [
    "import pandas as pd\n",
    "import numpy as np\n",
    "import matplotlib.pyplot as plt\n",
    "import statsmodels.api as sm\n",
    "import plotly.express as px\n",
    "import plotly.graph_objects as go\n",
    "from statsmodels.graphics.tsaplots import plot_acf\n",
    "from statsmodels.stats.diagnostic import het_white\n",
    "from statsmodels.stats.outliers_influence import variance_inflation_factor\n",
    "from sklearn.linear_model import LinearRegression\n",
    "from mpl_toolkits.mplot3d import Axes3D"
   ]
  },
  {
   "cell_type": "markdown",
   "id": "3eec1d0c-1d19-45c1-b999-e67b70b82086",
   "metadata": {},
   "source": [
    "## Load data dan membuat model regresi linier"
   ]
  },
  {
   "cell_type": "code",
   "execution_count": 13,
   "id": "ceb246ee-bcd4-40cc-b8ac-cb838c26281b",
   "metadata": {},
   "outputs": [
    {
     "name": "stdout",
     "output_type": "stream",
     "text": [
      "Koefisien:  [0.45311432 0.17698352]\n",
      "Intercept:  35.715949580388525\n"
     ]
    }
   ],
   "source": [
    "# Load dataset\n",
    "df = pd.read_csv('https://raw.githubusercontent.com/ameliyyh/Praktik-pemrograman/main/ameliah.csv')\n",
    "\n",
    "# Memisahkan variabel independen (X1, X2) dan variabel dependen (Y)\n",
    "X = df[['X1', 'X2']]\n",
    "Y = df['Y']\n",
    "\n",
    "# Algoritma Regresi\n",
    "# Membuat model regresi linier\n",
    "regression_model = LinearRegression()\n",
    "regression_model.fit(X, Y)\n",
    "\n",
    "# Menampilkan koefisien dan intercept dari model\n",
    "print(\"Koefisien: \", regression_model.coef_)\n",
    "print(\"Intercept: \", regression_model.intercept_)"
   ]
  },
  {
   "cell_type": "markdown",
   "id": "a7d64982-2b12-420f-b522-8aba5f379482",
   "metadata": {},
   "source": [
    "Y = β0 + β1 X1 + β2 X2\n",
    "#### Y = 35,716 + 0,453X1 + 0,177X2\n",
    "\n",
    "##### Y (Variabel Dependen)\n",
    "    Y adalah variabel yang ingin kita prediksi atau menjelaskan. Pada model regresi linear ini, Y mewakili hasil atau data yang ingin kita pahami atau prediksi, seperti pendapatan, penjualan, atau nilai lainnya.\n",
    "##### β0 (Konstanta/Intercept)\n",
    "    Nilai ini 35,716 adalah titik di mana garis regresi linear yang dihasilkan oleh model bertemu dengan sumbu Y ketika kedua variabel independen (X1 dan X2) bernilai nol. Dengan kata lain, ini adalah nilai Y saat X1 dan X2 sama-sama nol.\n",
    "##### β1 (Slope/Gradien)\n",
    "    Nilai ini (0,453) mengukur sejauh mana Y berubah saat variabel independen X1 berubah satu satuan. Dengan nilai positif ini, artinya ada hubungan positif antara X1 dan Y. Jika X1 naik satu satuan, maka Y diharapkan naik sebesar 0,453 satuan.\n",
    "##### β2 (Slope/Gradien)\n",
    "    Nilai ini (0,177) mengukur sejauh mana Y berubah saat variabel independen X2 berubah satu satuan. Dengan nilai positif ini, artinya ada hubungan positif antara X2 dan Y. Jika X2 naik satu satuan, maka Y diharapkan naik sebesar 0,177 satuan.\n",
    "\n",
    "X1 dan X2 (Variabel Independen) ini adalah dua variabel yang digunakan untuk menjelaskan variasi dalam Y. X1 dan X2 dapat mewakili berbagai faktor atau elemen yang dianggap penting dalam menjelaskan Y, seperti umur, harga, suhu, atau apapun yang relevan dalam konteks masalah yang sedang dihadapi.\n",
    "Secara umum, model regresi linear ini membantu kita memahami bagaimana perubahan dalam X1 dan X2 dapat mempengaruhi nilai Y. β0 adalah titik awal, β1 adalah sejauh mana Y berubah dengan perubahan X1, dan β2 adalah sejauh mana Y berubah dengan perubahan X2. \n",
    "\n",
    "Nah, Bayangkan jika kita menggunakan persamaan ini untuk memprediksi berapa banyak uang yang seseorang akan habiskan (konsumsi) berdasarkan berapa banyak uang yang mereka hasilkan (pendapatan). \n",
    "Y adalah jumlah uang yang dihabiskan, dan X adalah jumlah uang yang mereka hasilkan.  Dengan persamaan Y = 35,716 + 0,453X.\n",
    "\n",
    "Jika seseorang sama sekali tidak memiliki pendapatan, artinya mereka tidak menghasilkan uang sama sekali (X = 0). Berdasarkan persamaan ini, kita dapat memperkirakan bahwa mereka masih akan menghabiskan sekitar Rpba 35.716 untuk konsumsi. \n",
    "\n",
    "Namun, dalam kehidupan nyata, ini mungkin tidak masuk akal. Ketika Anda tidak memiliki pendapatan, mengapa Anda akan mengeluarkan uang? Bagaimana Anda bisa mengeluarkan sejumlah uang jika Anda sama sekali tidak memiliki uang untuk dihabiskan?\n",
    "\n",
    "Jadi, ini menunjukkan bahwa model kita mungkin tidak benar-benar cocok dengan situasi nyata. Ini tergantung pada asumsi-asumsi yang mendasarinya dan konteks masalahnya. Asumsi-asumsi itu perlu dipertimbangkan dan mungkin perlu dijelaskan lebih lanjut untuk memahami hasil regresi dengan benar.\n"
   ]
  },
  {
   "cell_type": "markdown",
   "id": "2468b095-4803-4aa8-b89a-155ff844288e",
   "metadata": {},
   "source": [
    "## Uji Autokorelasi"
   ]
  },
  {
   "cell_type": "code",
   "execution_count": 25,
   "id": "d0eaf88e-84ff-4f4b-9e57-6492268ab69d",
   "metadata": {},
   "outputs": [
    {
     "data": {
      "image/png": "[encoded data removed]",
      "text/plain": [
       "<Figure size 640x480 with 1 Axes>"
      ]
     },
     "metadata": {},
     "output_type": "display_data"
    }
   ],
   "source": [
    "# Plot autocorrelation function (ACF)\n",
    "plot_acf(Y)\n",
    "plt.show()"
   ]
  },
  {
   "cell_type": "markdown",
   "id": "9e44e4f9-159e-4a13-9ebf-4915a6de3bf8",
   "metadata": {},
   "source": [
    "Autokorelasi dapat didefinisikan sebagai adanya korelasi antar galat atau dapat terjadi ketika kovarians dan korelasi antar galat tidak sama dengan nol. Uji autokorelasi bertujuan untuk mengetahui apakah dalam suatu model regresi linier ada korelasi antar kesalahan pengganggu (residual = Ui) pada periode t dengan kesalahan pengganggu pada periode t-1 (periode sebelumnya) biasa disebut dengan lag. Jika gambarnya seperti diatas maka data yang kita miliki mengindikasikan terjadinya autokorelasi positif.\n",
    "\n",
    "Namun terkadang akan sulit memahami sebuah plot grafik diatas, maka solusi analitik dapat menggunakan durbin watson."
   ]
  },
  {
   "cell_type": "markdown",
   "id": "49ac43ef-fe83-4919-aa9b-80fed328ae35",
   "metadata": {},
   "source": [
    "## Uji Heteroskedastisitas"
   ]
  },
  {
   "cell_type": "code",
   "execution_count": 26,
   "id": "3e9e9fb5-e4c2-449a-a251-347ed2f62213",
   "metadata": {},
   "outputs": [
    {
     "name": "stdout",
     "output_type": "stream",
     "text": [
      "Uji Heteroskedastisitas (White Test):\n",
      "LM Statistic: 5.973455368103073\n",
      "LM p-value: 0.30881040302990387\n",
      "F Statistic: 1.191815047101113\n",
      "F p-value: 0.37381257833816395\n"
     ]
    }
   ],
   "source": [
    "# Membuat model regresi dengan sm.add_constant\n",
    "X = sm.add_constant(X)\n",
    "model = sm.OLS(Y, X).fit()\n",
    "# Uji White untuk heteroskedastisitas\n",
    "white_test = het_white(model.resid, X)\n",
    "print(\"Uji Heteroskedastisitas (White Test):\")\n",
    "print(\"LM Statistic:\", white_test[0])\n",
    "print(\"LM p-value:\", white_test[1])\n",
    "print(\"F Statistic:\", white_test[2])\n",
    "print(\"F p-value:\", white_test[3])"
   ]
  },
  {
   "cell_type": "markdown",
   "id": "42ab8bd3-9fd8-43f0-b278-4b7e21293260",
   "metadata": {},
   "source": [
    "Model regresi yang baik adalah yang homoskedastisitas atau tidak terjadi heteroskedastisitas. Uji heteroskedastisitas dilakukan dengan tujuan untuk menguji apakah terdapat ketidaksamaan variance maupun residual dari suatu pengamatan ke pengamatan lainnya.\n",
    "Uji ini merupakan salah satu dari uji asumsi klasik yang harus dilakukan pada regresi linear. Apabila asumsi heteroskedastisitas tidak terpenuhi, maka model regresi dinyatakan tidak valid sebagai alat peramalan.\n",
    "Dari uji diatas diperoleh\n",
    "\n",
    "##### LM Statistic (Laguerrere and Multiplier Statistic) : 5.973455368103073\n",
    "Ini adalah salah satu metrik yang digunakan untuk mengukur tingkat heteroskedastisitas dalam data atau model statistik. Semakin tinggi nilai LM Statistic, semakin besar indikasi heteroskedastisitas.\n",
    "##### LM p-value : 0.30881040302990387\n",
    "Nilai LM P-value adalah ukuran signifikansi statistik. Semakin kecil p-value, semakin kuat bukti bahwa heteroskedastisitas ada dalam data atau model statistik. Dalam hal ini, p-value cukup besar (lebih dari 0.05), yang berarti tidak ada cukup bukti untuk menolak hipotesis nol dengan kata lain tidak ada heteroskedastisitas.\n",
    "##### F Statistic (Fisher Statistic) : 1.191815047101113\n",
    "Nilai ini digunakan untuk mengukur tingkat heteroskedastisitas dalam data. Dalam konteks uji White, F Statistic digunakan untuk menguji apakah ada heteroskedastisitas dalam model regresi.\n",
    "##### F p-value : 0.37381257833816395\n",
    "Ini juga merupakan ukuran signifikansi dalam konteks pengujian heteroskedastisitas. Nilai p-value yang besar di sini juga menunjukkan bahwa tidak ada cukup bukti untuk menolak hipotesis nol atau tidak ada heteroskedastisitas.\n",
    "\n",
    "Jadi kesimpulannya, LM Statistic adalah sekitar 5.97 dan LM p-value adalah sekitar 0.309, sedangkan F Statistic adalah sekitar 1.19 dan F p-value adalah sekitar 0.374. Karena kedua p-value ini lebih besar dari tingkat signifikansi biasa (0.05), kita tidak memiliki cukup bukti statistik untuk menolak hipotesis nol. Oleh karena itu, berdasarkan hasil uji White ini, kita dapat menyimpulkan bahwa tidak adanya heteroskedastisitas dalam model regresi tersebut dan kita dapat melanjutkan dengan keyakinan bahwa model regresi tersebut tidak terpengaruh oleh masalah heteroskedastisitas.\n"
   ]
  },
  {
   "cell_type": "markdown",
   "id": "e7b3fde4-d3da-42d1-8efc-b112f542f45b",
   "metadata": {},
   "source": [
    "## Uji Multikolinearitas"
   ]
  },
  {
   "cell_type": "code",
   "execution_count": 27,
   "id": "d2a7f865-32a3-4eac-878a-e461b900e4a9",
   "metadata": {},
   "outputs": [
    {
     "name": "stdout",
     "output_type": "stream",
     "text": [
      "Uji Multikolinearitas (VIF):\n",
      "  Variable        VIF\n",
      "0    const  19.725151\n",
      "1       X1   2.618124\n",
      "2       X2   2.618124\n"
     ]
    }
   ],
   "source": [
    "# Menghitung VIF untuk setiap variabel independen\n",
    "vif = pd.DataFrame()\n",
    "vif[\"Variable\"] = X.columns\n",
    "vif[\"VIF\"] = [variance_inflation_factor(X.values, i) for i in range(X.shape[1])]\n",
    "print(\"Uji Multikolinearitas (VIF):\")\n",
    "print(vif)"
   ]
  },
  {
   "cell_type": "markdown",
   "id": "3e3cbee4-ed64-4470-9e6c-ada9c161022d",
   "metadata": {},
   "source": [
    "Model regresi yang baik tidak terjadi multikolinearitas. Uji multikolinearitas dilakukan untuk menguji apakah terdapat korelasi antar variabel bebas dalam model regresi. Jika terjadi multikolinearitas, maka sebuah variabel yang berkorelasi kuat dengan variabel lainnya di dalam model, kekuatan prediksinya tidak handal dan tidak stabil.\n",
    "\n",
    "Berdasarkan nilai VIF yang diperoleh diatas:\n",
    "\n",
    "• Variabel \"const\" memiliki VIF sekitar 19.725151. Ini adalah nilai yang tinggi, tetapi ini biasanya dapat diterima untuk variabel seperti konstanta (intercept) dalam model regresi. Variabel konstan seperti ini umumnya tidak perlu dianalisis untuk multikolinearitas karena mereka tidak terkait dengan variabel independen lainnya.\n",
    "\n",
    "• Variabel \"X1\" dan \"X2\" masing-masing memiliki VIF sekitar 2.618124. Ini adalah nilai yang rendah dan menunjukkan bahwa korelasi antara \"X1\" dan \"X2\" dengan variabel independen lainnya sangat rendah. Oleh karena itu, model regresi diatas tidak mengalami multikolinearitas yang signifikan.\n",
    "\n",
    "Kesimpulannya, model regresi diatas tidak mengalami multikolinearitas yang signifikan, dan kita dapat melanjutkan interpretasi hasil model dengan keyakinan bahwa variabel independen (\"X1\" dan \"X2\") relatif independen satu sama lain dalam model regresi.\n"
   ]
  },
  {
   "cell_type": "markdown",
   "id": "dec9cdd4-4595-4402-bcf7-9595b911cf30",
   "metadata": {},
   "source": [
    "## Algoritma Regresi dengan paket STATMODEL"
   ]
  },
  {
   "cell_type": "code",
   "execution_count": 28,
   "id": "664d2248-9bb5-4e42-9f69-0682523d40a0",
   "metadata": {},
   "outputs": [
    {
     "name": "stdout",
     "output_type": "stream",
     "text": [
      "Hasil Regresi dengan STATMODEL:\n",
      "                            OLS Regression Results                            \n",
      "==============================================================================\n",
      "Dep. Variable:                      Y   R-squared:                       0.781\n",
      "Model:                            OLS   Adj. R-squared:                  0.749\n",
      "Method:                 Least Squares   F-statistic:                     24.91\n",
      "Date:                Wed, 11 Oct 2023   Prob (F-statistic):           2.45e-05\n",
      "Time:                        00:15:48   Log-Likelihood:                -52.176\n",
      "No. Observations:                  17   AIC:                             110.4\n",
      "Df Residuals:                      14   BIC:                             112.9\n",
      "Df Model:                           2                                         \n",
      "Covariance Type:            nonrobust                                         \n",
      "==============================================================================\n",
      "                 coef    std err          t      P>|t|      [0.025      0.975]\n",
      "------------------------------------------------------------------------------\n",
      "const         35.7159      6.182      5.777      0.000      22.456      48.975\n",
      "X1             0.4531      0.141      3.219      0.006       0.151       0.755\n",
      "X2             0.1770      0.131      1.352      0.198      -0.104       0.458\n",
      "==============================================================================\n",
      "Omnibus:                        0.003   Durbin-Watson:                   2.234\n",
      "Prob(Omnibus):                  0.999   Jarque-Bera (JB):                0.179\n",
      "Skew:                           0.023   Prob(JB):                        0.914\n",
      "Kurtosis:                       2.499   Cond. No.                         400.\n",
      "==============================================================================\n",
      "\n",
      "Notes:\n",
      "[1] Standard Errors assume that the covariance matrix of the errors is correctly specified.\n"
     ]
    },
    {
     "name": "stderr",
     "output_type": "stream",
     "text": [
      "C:\\Users\\AMELIAH UTARY\\anaconda3\\lib\\site-packages\\scipy\\stats\\_stats_py.py:1769: UserWarning:\n",
      "\n",
      "kurtosistest only valid for n>=20 ... continuing anyway, n=17\n",
      "\n"
     ]
    }
   ],
   "source": [
    "# Membuat model regresi menggunakan statsmodels\n",
    "model = sm.OLS(Y, X).fit()\n",
    "print(\"Hasil Regresi dengan STATMODEL:\")\n",
    "print(model.summary())"
   ]
  },
  {
   "cell_type": "markdown",
   "id": "40fb1174-a13f-4a09-bf18-4a4063f0697c",
   "metadata": {},
   "source": [
    "Hasil regresi diatas memberikan informasi tentang seberapa baik model ini menjelaskan hubungan antara variabel Y dengan X1 dan X2.\n",
    "• R-squared (R-kuadrat), mengukur sejauh mana model statistik yang digunakan sesuai dengan data dengan berkisar antara 0 hingga 1. Semakin tinggi nilainya (0,781 dalam kasus ini), semakin baik model tersebut menjelaskan variasi dalam data. Dalam hal ini, sekitar 78,1% variasi dalam data dapat dijelaskan oleh model.\n",
    "\n",
    "• Adj. R-squared (R-kuadrat disesuaikan) adalah versi yang dimodifikasi dari R-Squared yang nilainya hanya meningkat ketika variabel dalam model menambahkan nilai. Semakin banyak variabel yang tidak berguna dalam model, semakin rendah nilai Adjusted R-Squared, dan semakin tinggi nilai R-Squared. Oleh karena itu, nilai Adjusted R-Squared selalu lebih rendah daripada nilai R-Squared. Nilai yang diperoleh yaitu 0,749.\n",
    "\n",
    "• F-statistic (Statistik F), Statistik F adalah alat untuk mengukur apakah semua faktor ini secara bersama-sama memiliki pengaruh yang signifikan pada penjualan. Jika nilainya tinggi, itu berarti model kita baik dalam menjelaskan penjualan. Jika nilainya rendah, model kita mungkin tidak sesuai dengan data dengan baik. Berdasarkan angka yang diperoleh yaitu 24,91 menunjukkan bahwa model ini secara signifikan menjelaskan variasi dalam data.\n",
    "\n",
    "• Prob (F-statistic) adalah nilai probabilitas yang terkait dengan statistik F. Nilai Prob (F-statistic) yang diperoleh yaitu 2.45e-05, itu berarti bahwa kemungkinan model statistik yang digunakan sesuai dengan data. Dengan kata lain, hasil yang diperoleh tidak muncul secara acak. Probabilitas yang sangat rendah ini menunjukkan bahwa model statistik kita secara signifikan cocok dengan data dan variabel-variabel independen yang digunakan memiliki pengaruh yang signifikan dalam menjelaskan variabel dependen.\n",
    "\n",
    "• Log-Likelihood, Nilai log-likelihood dari model regresi adalah cara untuk mengukur sejauh mana model cocok dengan data. Semakin tinggi nilai log-likelihood, semakin baik model tersebut cocok dengan dataset. Nilai log-likelihood untuk suatu model dapat berkisar dari negatif tak terhingga hingga positif tak terhingga. Nilai log-likelihood sebenarnya untuk suatu model tidak memiliki makna yang signifikan, tetapi berguna untuk membandingkan dua atau lebih model. Nilai yang diperoleh -52.176 dalam hal ini, model dianggap cukup baik dalam menjelaskan data yang digunakan.\n",
    "\n",
    "• AIC (Akaike Information Criterion) adalah metrik yang digunakan untuk membandingkan model statistik yang berbeda dan membantu dalam pemilihan model yang paling sesuai dengan data. Semakin rendah nilai AIC, semakin baik modelnya dalam menggambarkan data dengan baik tanpa terlalu rumit. Nilai yang diperoleh yaitu 110.4 yang mengindikasikan bahwa model regresi relatif baik dalam menjelaskan data dengan mempertimbangkan tingkat kompleksitas model.\n",
    "\n",
    "• BIC (Bayesian Information Criterion) adalah metrik yang digunakan untuk membandingkan dan mengevaluasi model statistik yang berbeda. Sama seperti AIC, BIC membantu dalam pemilihan model yang paling sesuai dengan data, dengan mempertimbangkan keseimbangan antara kecocokan model dengan data dan kompleksitas model. Dalam BIC, komponen yang mengukur kompleksitas model memiliki bobot yang lebih besar daripada AIC, sehingga BIC cenderung lebih menekankan model-model yang lebih sederhana. Model dengan nilai BIC yang lebih rendah dianggap lebih baik dalam memprediksi data dengan mempertimbangkan kompleksitas model. Nilai yang diperoleh yaitu 112.9 yang mengindikasikan bahwa model regresi relatif baik dalam menjelaskan data dengan mempertimbangkan tingkat kompleksitas model.\n",
    "\n",
    "• Koefisien (coef) adalah angka-angka yang mengukur sejauh mana variabel independen memengaruhi variabel dependen dalam sebuah model regresi. Dalam konteks regresi, koefisien mengindikasikan seberapa besar atau seberapa kecil pengaruh variabel independen terhadap variabel dependen.\n",
    "\n",
    "• Standard Error adalah ukuran variabilitas atau ketidakpastian dari suatu sampel statistik dalam mengestimasi parameter populasi. Secara umum, standard error digunakan untuk menentukan seberapa akurat suatu sampel dalam merepresentasikan populasi secara keseluruhan. Fungsi dari Standard Error adalah untuk memberikan informasi tentang seberapa dekat rata-rata sampel dengan rata-rata populasi. Semakin kecil nilai Standard Error, semakin akurat rata-rata sampel dalam merepresentasikan rata-rata populasi.\n",
    "Dengan nilai standar error nya:\n",
    "- Konstanta: 6.182\n",
    "- X1: 0.141\n",
    "- X2: 0.131\n",
    "\n",
    "• T-statistic (t), Nilai t-statistic adalah rasio koefisien dengan kesalahan standarnya. Semakin besar nilai t, semakin signifikan koefisien tersebut. Dalam hal ini:\n",
    "- Konstanta \t: 5.777\n",
    "- X1 \t\t: 3.219\n",
    "- X2 \t\t: 1.352\n",
    "\n",
    "• P-value (P>|t|), mengukur signifikansi statistik dari masing-masing koefisien. P-value yang rendah menunjukkan bahwa koefisien tersebut signifikan secara statistik. Dalam hal ini, variabel Konstanta dan X1 memiliki p-value rendah, sementara X2 memiliki p-value yang lebih tinggi. Ini mengindikasikan bahwa variabel X2 mungkin tidak memberikan kontribusi yang signifikan terhadap model regresi, sementara variabel konstanta dan X1 memiliki pengaruh yang signifikan dalam menjelaskan variabilitas dalam data.\n",
    "\n",
    "• Interval kepercayaan (0.025   0.975) dalam analisis regresi adalah rentang nilai yang digunakan untuk mengukur sejauh mana parameter regresi (seperti koefisien regresi) mungkin berkisar dalam populasi yang lebih besar dengan tingkat kepercayaan tertentu. Ini memberikan gambaran tentang seberapa pasti atau tidak pastinya kita tentang nilai parameter tersebut. Interval kepercayaan sering kali digunakan untuk mengukur seberapa yakin kita tentang seberapa besar atau kecil pengaruh variabel independen terhadap variabel dependen. Misalnya, kita mungkin memiliki interval kepercayaan 95% untuk koefisien regresi, yang berarti kita yakin dengan tingkat 95% bahwa nilai sebenarnya dari koefisien tersebut berada di dalam interval tersebut. Seperti pada hasil regresi diatas, kita menggunakan interval kepercayaan 95%.\n",
    "\n",
    "• Omnibus adalah uji statistik yang digunakan untuk memeriksa apakah kesalahan dalam model statistik mengikuti pola tertentu. Hasil Omnibus dengan nilai rendah (0.003) menunjukkan bahwa kemungkinan besar kesalahan dalam model tidak mengikuti pola distribusi yang kita harapkan, yaitu distribusi normal. Namun, Prob(Omnibus) yang tinggi (0.999) menunjukkan bahwa hasil ini mungkin hanyalah kebetulan. Dengan kata lain, tidak memiliki signifikansi statistik yang kuat dan mungkin terjadi karena variasi acak dalam data.\n",
    "\n",
    "• Skewness mengukur seberapa simetris atau tidak simetris distribusi kesalahan. Nilai mendekati nol (0.023) menandakan bahwa distribusi kesalahan hampir simetris, artinya tidak terlalu miring ke salah satu sisi.\n",
    "\n",
    "• Kurtosis mengukur seberapa tajam atau datar puncak distribusi kesalahan. Nilai sekitar 2.499 menunjukkan bahwa puncak distribusi kesalahan agak datar dibandingkan dengan distribusi normal yang lebih tajam.\n",
    "\n",
    "• Durbin-Watson, digunakan untuk menguji apakah ada keterkaitan antara pengukuran berurutan dalam data (autokorelasi) dalam model. Nilai sekitar 2.234 menunjukkan bahwa ada sedikit tanda-tanda autokorelasi positif dalam data.\n",
    "\n",
    "• JB adalah hasil dari uji Jarque-Bera, yang digunakan untuk menguji apakah distribusi kesalahan dalam model statistik mengikuti distribusi normal. Nilai JB yang rendah (0.179) menunjukkan bahwa distribusi kesalahan mungkin mendekati distribusi normal. Nilai JB yang rendah menunjukkan kesalahan yang lebih mendekati normalitas.\n",
    "\n",
    "• Prob(JB) adalah nilai probabilitas yang terkait dengan hasil JB. Probabilitas ini mengukur sejauh mana hasil JB mendekati distribusi chi-square. Dalam hal ini, Prob(JB) memiliki nilai yang sangat tinggi, yaitu 0.914. Probabilitas yang tinggi ini menunjukkan bahwa hasil JB mungkin terjadi secara kebetulan atau fluktuasi alami dalam data. Dengan kata lain, hasil JB yang diamati mungkin tidak cukup kuat untuk menyimpulkan bahwa distribusi kesalahan tidak mengikuti distribusi normal. Ini menunjukkan bahwa hasil JB tidak signifikan secara statistik pada tingkat signifikansi 0.05.\n",
    "\n",
    "• Nilai Cond. No. yang tinggi, seperti 400, menunjukkan bahwa ada kemungkinan tingkat multikolinearitas yang tinggi dalam model regresi. Namun, jika Anda memiliki nilai multikolinearitas yang rendah (seperti yang diuji sebelumnya) untuk variabel konstanta, X1, dan X2, tetapi nilai Cond. No. yang tinggi (400), maka hal ini bisa menjadi situasi yang kurang umum. Mungkin ada variabel lain yang tidak dijelaskan dalam contoh sebelumnya yang menyebabkan nilai Cond. No. menjadi tinggi. Maka untuk memastikannya, saya menggunakan teknik analisis VIF (Variance Inflation Factor) untuk mengevaluasi multikolinearitas pada setiap variabel, dan hasilnya model regresi diatas tidak mengalami multikolinearitas yang signifikan.\n"
   ]
  },
  {
   "cell_type": "markdown",
   "id": "05762a0e-cb76-4065-91fa-4eade3d5cd32",
   "metadata": {},
   "source": [
    "## Menampilkan visual"
   ]
  },
  {
   "cell_type": "code",
   "execution_count": 17,
   "id": "3eb397b3-d764-41f1-b3c8-fcf51bf31c7c",
   "metadata": {},
   "outputs": [
    {
     "name": "stdout",
     "output_type": "stream",
     "text": [
      "Koefisien X1: 0.4531143249901129\n",
      "Koefisien X2: 0.17698351544453655\n",
      "Intercept: 35.715949580388525\n"
     ]
    },
    {
     "name": "stderr",
     "output_type": "stream",
     "text": [
      "C:\\Users\\AMELIAH UTARY\\anaconda3\\lib\\site-packages\\sklearn\\base.py:450: UserWarning: X does not have valid feature names, but LinearRegression was fitted with feature names\n",
      "  warnings.warn(\n"
     ]
    },
    {
     "data": {
      "image/png": "[encoded data removed]",
      "text/plain": [
       "<Figure size 640x480 with 1 Axes>"
      ]
     },
     "metadata": {},
     "output_type": "display_data"
    }
   ],
   "source": [
    "# Koefisien regresi\n",
    "coef_x1 = regression_model.coef_[0]\n",
    "coef_x2 = regression_model.coef_[1]\n",
    "intercept = regression_model.intercept_\n",
    "\n",
    "print(f'Koefisien X1: {coef_x1}')\n",
    "print(f'Koefisien X2: {coef_x2}')\n",
    "print(f'Intercept: {intercept}')\n",
    "\n",
    "fig = plt.figure()\n",
    "ax = fig.add_subplot(111, projection='3d')\n",
    "\n",
    "ax.scatter(df['X1'], df['X2'], df['Y'], c='r', marker='o')\n",
    "\n",
    "# Prediksi hasil regresi untuk plot permukaan\n",
    "x1_range = np.linspace(df['X1'].min(), df['X1'].max(), 20)\n",
    "x2_range = np.linspace(df['X2'].min(), df['X2'].max(), 20)\n",
    "x1_mesh, x2_mesh = np.meshgrid(x1_range, x2_range)\n",
    "y_pred = regression_model.predict(np.column_stack((x1_mesh.ravel(), x2_mesh.ravel())))\n",
    "y_pred = y_pred.reshape(x1_mesh.shape)\n",
    "\n",
    "ax.plot_surface(x1_mesh, x2_mesh, y_pred, alpha=0.5)\n",
    "\n",
    "ax.set_xlabel('X1')\n",
    "ax.set_ylabel('X2')\n",
    "ax.set_zlabel('Y')\n",
    "\n",
    "plt.show()"
   ]
  },
  {
   "cell_type": "markdown",
   "id": "26ed35d5-7db8-4082-a1cc-60bab94a5396",
   "metadata": {},
   "source": [
    "Bisa dilihat sejumlah titik merah tersebar di dalam gambar diatas. Masing-masing titik merah mewakili satu pengukuran dari variabel X1, X2, dan Y. Pikirkan mereka sebagai \"titik\" dalam grafik. Variabel X1 dan X2 ada di sisi horizontal, sedangkan variabel Y ada di sisi vertikal. Jadi, kita bisa melihat di mana titik-titik ini berada di dalam ruang.\n",
    "\n",
    "Gambar diatas juga memiliki permukaan yang mengambang di atas titik-titik merah. Permukaan ini menunjukkan bagaimana model memprediksi nilai Y berdasarkan nilai X1 dan X2. Jadi, kita bisa melihat bagaimana model berusaha mengikuti tren dari titik-titik merah dan memprediksi nilai Y ketika kita memiliki nilai X1 dan X2 tertentu.\n",
    "\n",
    "Jadi, secara keseluruhan, gambar tersebut mencoba memperlihatkan bagaimana model bekerja dalam menghubungkan X1, X2, dan Y dalam dunia tiga dimensi.  "
   ]
  },
  {
   "cell_type": "markdown",
   "id": "10c21d12-e933-482f-b7c7-bcca1b7c9d4d",
   "metadata": {},
   "source": [
    "## Menampilkan visual 3D"
   ]
  },
  {
   "cell_type": "code",
   "execution_count": 29,
   "id": "66e6b950-5278-45ac-b0d5-bccb9a5b3cc5",
   "metadata": {},
   "outputs": [
    {
     "data": {
      "application/vnd.plotly.v1+json": {
       "config": {
        "plotlyServerURL": "https://plot.ly"
       },
       "data": [
        {
         "hovertemplate": "X1=%{x}<br>X2=%{y}<br>Y=%{z}<extra></extra>",
         "legendgroup": "",
         "marker": {
          "color": "#636efa",
          "symbol": "circle"
         },
         "mode": "markers",
         "name": "",
         "scene": "scene",
         "showlegend": false,
         "type": "scatter3d",
         "x": [
          50,
          40,
          60,
          55,
          45,
          65,
          70,
          75,
          80,
          90,
          89,
          87,
          90,
          85,
          73,
          62,
          55
         ],
         "y": [
          20,
          25,
          30,
          35,
          40,
          50,
          55,
          60,
          65,
          70,
          66,
          78,
          72,
          60,
          50,
          70,
          65
         ],
         "z": [
          60,
          55,
          65,
          70,
          62,
          75,
          80,
          85,
          90,
          95,
          77,
          87,
          85,
          80,
          88,
          70,
          75
         ]
        },
        {
         "colorscale": [
          [
           0,
           "#440154"
          ],
          [
           0.1111111111111111,
           "#482878"
          ],
          [
           0.2222222222222222,
           "#3e4989"
          ],
          [
           0.3333333333333333,
           "#31688e"
          ],
          [
           0.4444444444444444,
           "#26828e"
          ],
          [
           0.5555555555555556,
           "#1f9e89"
          ],
          [
           0.6666666666666666,
           "#35b779"
          ],
          [
           0.7777777777777778,
           "#6ece58"
          ],
          [
           0.8888888888888888,
           "#b5de2b"
          ],
          [
           1,
           "#fde725"
          ]
         ],
         "opacity": 0.8,
         "type": "surface",
         "x": [
          [
           50,
           40,
           60,
           55,
           45,
           65,
           70,
           75,
           80,
           90,
           89,
           87,
           90,
           85,
           73,
           62,
           55
          ],
          [
           50,
           40,
           60,
           55,
           45,
           65,
           70,
           75,
           80,
           90,
           89,
           87,
           90,
           85,
           73,
           62,
           55
          ],
          [
           50,
           40,
           60,
           55,
           45,
           65,
           70,
           75,
           80,
           90,
           89,
           87,
           90,
           85,
           73,
           62,
           55
          ],
          [
           50,
           40,
           60,
           55,
           45,
           65,
           70,
           75,
           80,
           90,
           89,
           87,
           90,
           85,
           73,
           62,
           55
          ],
          [
           50,
           40,
           60,
           55,
           45,
           65,
           70,
           75,
           80,
           90,
           89,
           87,
           90,
           85,
           73,
           62,
           55
          ],
          [
           50,
           40,
           60,
           55,
           45,
           65,
           70,
           75,
           80,
           90,
           89,
           87,
           90,
           85,
           73,
           62,
           55
          ],
          [
           50,
           40,
           60,
           55,
           45,
           65,
           70,
           75,
           80,
           90,
           89,
           87,
           90,
           85,
           73,
           62,
           55
          ],
          [
           50,
           40,
           60,
           55,
           45,
           65,
           70,
           75,
           80,
           90,
           89,
           87,
           90,
           85,
           73,
           62,
           55
          ],
          [
           50,
           40,
           60,
           55,
           45,
           65,
           70,
           75,
           80,
           90,
           89,
           87,
           90,
           85,
           73,
           62,
           55
          ],
          [
           50,
           40,
           60,
           55,
           45,
           65,
           70,
           75,
           80,
           90,
           89,
           87,
           90,
           85,
           73,
           62,
           55
          ],
          [
           50,
           40,
           60,
           55,
           45,
           65,
           70,
           75,
           80,
           90,
           89,
           87,
           90,
           85,
           73,
           62,
           55
          ],
          [
           50,
           40,
           60,
           55,
           45,
           65,
           70,
           75,
           80,
           90,
           89,
           87,
           90,
           85,
           73,
           62,
           55
          ],
          [
           50,
           40,
           60,
           55,
           45,
           65,
           70,
           75,
           80,
           90,
           89,
           87,
           90,
           85,
           73,
           62,
           55
          ],
          [
           50,
           40,
           60,
           55,
           45,
           65,
           70,
           75,
           80,
           90,
           89,
           87,
           90,
           85,
           73,
           62,
           55
          ],
          [
           50,
           40,
           60,
           55,
           45,
           65,
           70,
           75,
           80,
           90,
           89,
           87,
           90,
           85,
           73,
           62,
           55
          ],
          [
           50,
           40,
           60,
           55,
           45,
           65,
           70,
           75,
           80,
           90,
           89,
           87,
           90,
           85,
           73,
           62,
           55
          ],
          [
           50,
           40,
           60,
           55,
           45,
           65,
           70,
           75,
           80,
           90,
           89,
           87,
           90,
           85,
           73,
           62,
           55
          ]
         ],
         "y": [
          [
           20,
           20,
           20,
           20,
           20,
           20,
           20,
           20,
           20,
           20,
           20,
           20,
           20,
           20,
           20,
           20,
           20
          ],
          [
           25,
           25,
           25,
           25,
           25,
           25,
           25,
           25,
           25,
           25,
           25,
           25,
           25,
           25,
           25,
           25,
           25
          ],
          [
           30,
           30,
           30,
           30,
           30,
           30,
           30,
           30,
           30,
           30,
           30,
           30,
           30,
           30,
           30,
           30,
           30
          ],
          [
           35,
           35,
           35,
           35,
           35,
           35,
           35,
           35,
           35,
           35,
           35,
           35,
           35,
           35,
           35,
           35,
           35
          ],
          [
           40,
           40,
           40,
           40,
           40,
           40,
           40,
           40,
           40,
           40,
           40,
           40,
           40,
           40,
           40,
           40,
           40
          ],
          [
           50,
           50,
           50,
           50,
           50,
           50,
           50,
           50,
           50,
           50,
           50,
           50,
           50,
           50,
           50,
           50,
           50
          ],
          [
           55,
           55,
           55,
           55,
           55,
           55,
           55,
           55,
           55,
           55,
           55,
           55,
           55,
           55,
           55,
           55,
           55
          ],
          [
           60,
           60,
           60,
           60,
           60,
           60,
           60,
           60,
           60,
           60,
           60,
           60,
           60,
           60,
           60,
           60,
           60
          ],
          [
           65,
           65,
           65,
           65,
           65,
           65,
           65,
           65,
           65,
           65,
           65,
           65,
           65,
           65,
           65,
           65,
           65
          ],
          [
           70,
           70,
           70,
           70,
           70,
           70,
           70,
           70,
           70,
           70,
           70,
           70,
           70,
           70,
           70,
           70,
           70
          ],
          [
           66,
           66,
           66,
           66,
           66,
           66,
           66,
           66,
           66,
           66,
           66,
           66,
           66,
           66,
           66,
           66,
           66
          ],
          [
           78,
           78,
           78,
           78,
           78,
           78,
           78,
           78,
           78,
           78,
           78,
           78,
           78,
           78,
           78,
           78,
           78
          ],
          [
           72,
           72,
           72,
           72,
           72,
           72,
           72,
           72,
           72,
           72,
           72,
           72,
           72,
           72,
           72,
           72,
           72
          ],
          [
           60,
           60,
           60,
           60,
           60,
           60,
           60,
           60,
           60,
           60,
           60,
           60,
           60,
           60,
           60,
           60,
           60
          ],
          [
           50,
           50,
           50,
           50,
           50,
           50,
           50,
           50,
           50,
           50,
           50,
           50,
           50,
           50,
           50,
           50,
           50
          ],
          [
           70,
           70,
           70,
           70,
           70,
           70,
           70,
           70,
           70,
           70,
           70,
           70,
           70,
           70,
           70,
           70,
           70
          ],
          [
           65,
           65,
           65,
           65,
           65,
           65,
           65,
           65,
           65,
           65,
           65,
           65,
           65,
           65,
           65,
           65,
           65
          ]
         ],
         "z": [
          [
           61.91133613878491,
           57.38019288888378,
           66.44247938868604,
           64.17690776373547,
           59.645764513834344,
           68.7080510136366,
           70.97362263858717,
           73.23919426353774,
           75.50476588848831,
           80.03590913838944,
           79.58279481339933,
           78.67656616341911,
           80.03590913838944,
           77.77033751343888,
           72.3329656135575,
           67.34870803866627,
           64.17690776373547
          ],
          [
           62.7962537160076,
           58.265110466106464,
           67.32739696590872,
           65.06182534095815,
           60.53068209105703,
           69.59296859085929,
           71.85854021580985,
           74.12411184076042,
           76.38968346571099,
           80.92082671561212,
           80.46771239062201,
           79.56148374064179,
           80.92082671561212,
           78.65525509066156,
           73.21788319078019,
           68.23362561588895,
           65.06182534095815
          ],
          [
           63.68117129323028,
           59.150028043329144,
           68.21231454313141,
           65.94674291818083,
           61.41559966827971,
           70.47788616808197,
           72.74345779303255,
           75.0090294179831,
           77.27460104293368,
           81.80574429283482,
           81.3526299678447,
           80.44640131786448,
           81.80574429283482,
           79.54017266788424,
           74.10280076800288,
           69.11854319311163,
           65.94674291818083
          ],
          [
           64.56608887045296,
           60.034945620551824,
           69.0972321203541,
           66.83166049540353,
           62.30051724550239,
           71.36280374530466,
           73.62837537025523,
           75.8939469952058,
           78.15951862015636,
           82.6906618700575,
           82.23754754506739,
           81.33131889508716,
           82.6906618700575,
           80.42509024510693,
           74.98771834522556,
           70.00346077033431,
           66.83166049540353
          ],
          [
           65.45100644767564,
           60.91986319777451,
           69.98214969757677,
           67.7165780726262,
           63.18543482272508,
           72.24772132252734,
           74.51329294747791,
           76.77886457242847,
           79.04443619737904,
           83.57557944728018,
           83.12246512229007,
           82.21623647230984,
           83.57557944728018,
           81.31000782232961,
           75.87263592244824,
           70.888378347557,
           67.7165780726262
          ],
          [
           67.22084160212101,
           62.68969835221988,
           71.75198485202213,
           69.48641322707158,
           64.95526997717045,
           74.01755647697271,
           76.28312810192327,
           78.54869972687385,
           80.8142713518244,
           85.34541460172554,
           84.89230027673543,
           83.9860716267552,
           85.34541460172554,
           83.07984297677498,
           77.6424710768936,
           72.65821350200237,
           69.48641322707158
          ],
          [
           68.10575917934369,
           63.57461592944256,
           72.63690242924483,
           70.37133080429426,
           65.84018755439313,
           74.9024740541954,
           77.16804567914596,
           79.43361730409653,
           81.6991889290471,
           86.23033217894823,
           85.77721785395812,
           84.8709892039779,
           86.23033217894823,
           83.96476055399766,
           78.5273886541163,
           73.54313107922505,
           70.37133080429426
          ],
          [
           68.99067675656639,
           64.45953350666525,
           73.52182000646751,
           71.25624838151694,
           66.7251051316158,
           75.78739163141807,
           78.05296325636864,
           80.31853488131921,
           82.58410650626978,
           87.11524975617091,
           86.6621354311808,
           85.75590678120058,
           87.11524975617091,
           84.84967813122034,
           79.41230623133897,
           74.42804865644774,
           71.25624838151694
          ],
          [
           69.87559433378907,
           65.34445108388793,
           74.40673758369019,
           72.14116595873962,
           67.6100227088385,
           76.67230920864075,
           78.93788083359132,
           81.20345245854189,
           83.46902408349246,
           88.00016733339359,
           87.54705300840348,
           86.64082435842326,
           88.00016733339359,
           85.73459570844302,
           80.29722380856165,
           75.31296623367042,
           72.14116595873962
          ],
          [
           70.76051191101175,
           66.22936866111061,
           75.29165516091288,
           73.0260835359623,
           68.49494028606118,
           77.55722678586343,
           79.82279841081402,
           82.08837003576457,
           84.35394166071515,
           88.88508491061629,
           88.43197058562617,
           87.52574193564595,
           88.88508491061629,
           86.6195132856657,
           81.18214138578435,
           76.1978838108931,
           73.0260835359623
          ],
          [
           70.0525778492336,
           65.52143459933247,
           74.58372109913472,
           72.31814947418417,
           67.78700622428303,
           76.8492927240853,
           79.11486434903586,
           81.38043597398644,
           83.64600759893699,
           88.17715084883812,
           87.72403652384801,
           86.81780787386779,
           88.17715084883812,
           85.91157922388757,
           80.47420732400619,
           75.48994974911496,
           72.31814947418417
          ],
          [
           72.17638003456804,
           67.6452367846669,
           76.70752328446918,
           74.4419516595186,
           69.91080840961747,
           78.97309490941973,
           81.23866653437031,
           83.50423815932086,
           85.76980978427144,
           90.30095303417258,
           89.84783870918247,
           88.94161005920225,
           90.30095303417258,
           88.035381409222,
           82.59800950934064,
           77.6137519344494,
           74.4419516595186
          ],
          [
           71.11447894190081,
           66.58333569199968,
           75.64562219180195,
           73.38005056685138,
           68.84890731695026,
           77.91119381675252,
           80.17676544170308,
           82.44233706665365,
           84.70790869160422,
           89.23905194150535,
           88.78593761651524,
           87.87970896653502,
           89.23905194150535,
           86.97348031655478,
           81.53610841667341,
           76.55185084178217,
           73.38005056685138
          ],
          [
           68.99067675656639,
           64.45953350666525,
           73.52182000646751,
           71.25624838151694,
           66.7251051316158,
           75.78739163141807,
           78.05296325636864,
           80.31853488131921,
           82.58410650626978,
           87.11524975617091,
           86.6621354311808,
           85.75590678120058,
           87.11524975617091,
           84.84967813122034,
           79.41230623133897,
           74.42804865644774,
           71.25624838151694
          ],
          [
           67.22084160212101,
           62.68969835221988,
           71.75198485202213,
           69.48641322707158,
           64.95526997717045,
           74.01755647697271,
           76.28312810192327,
           78.54869972687385,
           80.8142713518244,
           85.34541460172554,
           84.89230027673543,
           83.9860716267552,
           85.34541460172554,
           83.07984297677498,
           77.6424710768936,
           72.65821350200237,
           69.48641322707158
          ],
          [
           70.76051191101175,
           66.22936866111061,
           75.29165516091288,
           73.0260835359623,
           68.49494028606118,
           77.55722678586343,
           79.82279841081402,
           82.08837003576457,
           84.35394166071515,
           88.88508491061629,
           88.43197058562617,
           87.52574193564595,
           88.88508491061629,
           86.6195132856657,
           81.18214138578435,
           76.1978838108931,
           73.0260835359623
          ],
          [
           69.87559433378907,
           65.34445108388793,
           74.40673758369019,
           72.14116595873962,
           67.6100227088385,
           76.67230920864075,
           78.93788083359132,
           81.20345245854189,
           83.46902408349246,
           88.00016733339359,
           87.54705300840348,
           86.64082435842326,
           88.00016733339359,
           85.73459570844302,
           80.29722380856165,
           75.31296623367042,
           72.14116595873962
          ]
         ]
        }
       ],
       "layout": {
        "autosize": true,
        "legend": {
         "tracegroupgap": 0
        },
        "scene": {
         "aspectmode": "auto",
         "aspectratio": {
          "x": 1.025220640789232,
          "y": 1.1892559433155092,
          "z": 0.8201765126313856
         },
         "camera": {
          "center": {
           "x": 0,
           "y": 0,
           "z": 0
          },
          "eye": {
           "x": 1.4271260902419032,
           "y": 1.5541175016002884,
           "z": 1.483018043088578
          },
          "projection": {
           "type": "perspective"
          },
          "up": {
           "x": -0.45604823547426454,
           "y": -0.3585038058868042,
           "z": 0.8145520413610702
          }
         },
         "domain": {
          "x": [
           0,
           1
          ],
          "y": [
           0,
           1
          ]
         },
         "xaxis": {
          "title": {
           "text": "X1"
          },
          "type": "linear"
         },
         "yaxis": {
          "title": {
           "text": "X2"
          },
          "type": "linear"
         },
         "zaxis": {
          "title": {
           "text": "Y"
          },
          "type": "linear"
         }
        },
        "template": {
         "data": {
          "bar": [
           {
            "error_x": {
             "color": "#2a3f5f"
            },
            "error_y": {
             "color": "#2a3f5f"
            },
            "marker": {
             "line": {
              "color": "#E5ECF6",
              "width": 0.5
             },
             "pattern": {
              "fillmode": "overlay",
              "size": 10,
              "solidity": 0.2
             }
            },
            "type": "bar"
           }
          ],
          "barpolar": [
           {
            "marker": {
             "line": {
              "color": "#E5ECF6",
              "width": 0.5
             },
             "pattern": {
              "fillmode": "overlay",
              "size": 10,
              "solidity": 0.2
             }
            },
            "type": "barpolar"
           }
          ],
          "carpet": [
           {
            "aaxis": {
             "endlinecolor": "#2a3f5f",
             "gridcolor": "white",
             "linecolor": "white",
             "minorgridcolor": "white",
             "startlinecolor": "#2a3f5f"
            },
            "baxis": {
             "endlinecolor": "#2a3f5f",
             "gridcolor": "white",
             "linecolor": "white",
             "minorgridcolor": "white",
             "startlinecolor": "#2a3f5f"
            },
            "type": "carpet"
           }
          ],
          "choropleth": [
           {
            "colorbar": {
             "outlinewidth": 0,
             "ticks": ""
            },
            "type": "choropleth"
           }
          ],
          "contour": [
           {
            "colorbar": {
             "outlinewidth": 0,
             "ticks": ""
            },
            "colorscale": [
             [
              0,
              "#0d0887"
             ],
             [
              0.1111111111111111,
              "#46039f"
             ],
             [
              0.2222222222222222,
              "#7201a8"
             ],
             [
              0.3333333333333333,
              "#9c179e"
             ],
             [
              0.4444444444444444,
              "#bd3786"
             ],
             [
              0.5555555555555556,
              "#d8576b"
             ],
             [
              0.6666666666666666,
              "#ed7953"
             ],
             [
              0.7777777777777778,
              "#fb9f3a"
             ],
             [
              0.8888888888888888,
              "#fdca26"
             ],
             [
              1,
              "#f0f921"
             ]
            ],
            "type": "contour"
           }
          ],
          "contourcarpet": [
           {
            "colorbar": {
             "outlinewidth": 0,
             "ticks": ""
            },
            "type": "contourcarpet"
           }
          ],
          "heatmap": [
           {
            "colorbar": {
             "outlinewidth": 0,
             "ticks": ""
            },
            "colorscale": [
             [
              0,
              "#0d0887"
             ],
             [
              0.1111111111111111,
              "#46039f"
             ],
             [
              0.2222222222222222,
              "#7201a8"
             ],
             [
              0.3333333333333333,
              "#9c179e"
             ],
             [
              0.4444444444444444,
              "#bd3786"
             ],
             [
              0.5555555555555556,
              "#d8576b"
             ],
             [
              0.6666666666666666,
              "#ed7953"
             ],
             [
              0.7777777777777778,
              "#fb9f3a"
             ],
             [
              0.8888888888888888,
              "#fdca26"
             ],
             [
              1,
              "#f0f921"
             ]
            ],
            "type": "heatmap"
           }
          ],
          "heatmapgl": [
           {
            "colorbar": {
             "outlinewidth": 0,
             "ticks": ""
            },
            "colorscale": [
             [
              0,
              "#0d0887"
             ],
             [
              0.1111111111111111,
              "#46039f"
             ],
             [
              0.2222222222222222,
              "#7201a8"
             ],
             [
              0.3333333333333333,
              "#9c179e"
             ],
             [
              0.4444444444444444,
              "#bd3786"
             ],
             [
              0.5555555555555556,
              "#d8576b"
             ],
             [
              0.6666666666666666,
              "#ed7953"
             ],
             [
              0.7777777777777778,
              "#fb9f3a"
             ],
             [
              0.8888888888888888,
              "#fdca26"
             ],
             [
              1,
              "#f0f921"
             ]
            ],
            "type": "heatmapgl"
           }
          ],
          "histogram": [
           {
            "marker": {
             "pattern": {
              "fillmode": "overlay",
              "size": 10,
              "solidity": 0.2
             }
            },
            "type": "histogram"
           }
          ],
          "histogram2d": [
           {
            "colorbar": {
             "outlinewidth": 0,
             "ticks": ""
            },
            "colorscale": [
             [
              0,
              "#0d0887"
             ],
             [
              0.1111111111111111,
              "#46039f"
             ],
             [
              0.2222222222222222,
              "#7201a8"
             ],
             [
              0.3333333333333333,
              "#9c179e"
             ],
             [
              0.4444444444444444,
              "#bd3786"
             ],
             [
              0.5555555555555556,
              "#d8576b"
             ],
             [
              0.6666666666666666,
              "#ed7953"
             ],
             [
              0.7777777777777778,
              "#fb9f3a"
             ],
             [
              0.8888888888888888,
              "#fdca26"
             ],
             [
              1,
              "#f0f921"
             ]
            ],
            "type": "histogram2d"
           }
          ],
          "histogram2dcontour": [
           {
            "colorbar": {
             "outlinewidth": 0,
             "ticks": ""
            },
            "colorscale": [
             [
              0,
              "#0d0887"
             ],
             [
              0.1111111111111111,
              "#46039f"
             ],
             [
              0.2222222222222222,
              "#7201a8"
             ],
             [
              0.3333333333333333,
              "#9c179e"
             ],
             [
              0.4444444444444444,
              "#bd3786"
             ],
             [
              0.5555555555555556,
              "#d8576b"
             ],
             [
              0.6666666666666666,
              "#ed7953"
             ],
             [
              0.7777777777777778,
              "#fb9f3a"
             ],
             [
              0.8888888888888888,
              "#fdca26"
             ],
             [
              1,
              "#f0f921"
             ]
            ],
            "type": "histogram2dcontour"
           }
          ],
          "mesh3d": [
           {
            "colorbar": {
             "outlinewidth": 0,
             "ticks": ""
            },
            "type": "mesh3d"
           }
          ],
          "parcoords": [
           {
            "line": {
             "colorbar": {
              "outlinewidth": 0,
              "ticks": ""
             }
            },
            "type": "parcoords"
           }
          ],
          "pie": [
           {
            "automargin": true,
            "type": "pie"
           }
          ],
          "scatter": [
           {
            "fillpattern": {
             "fillmode": "overlay",
             "size": 10,
             "solidity": 0.2
            },
            "type": "scatter"
           }
          ],
          "scatter3d": [
           {
            "line": {
             "colorbar": {
              "outlinewidth": 0,
              "ticks": ""
             }
            },
            "marker": {
             "colorbar": {
              "outlinewidth": 0,
              "ticks": ""
             }
            },
            "type": "scatter3d"
           }
          ],
          "scattercarpet": [
           {
            "marker": {
             "colorbar": {
              "outlinewidth": 0,
              "ticks": ""
             }
            },
            "type": "scattercarpet"
           }
          ],
          "scattergeo": [
           {
            "marker": {
             "colorbar": {
              "outlinewidth": 0,
              "ticks": ""
             }
            },
            "type": "scattergeo"
           }
          ],
          "scattergl": [
           {
            "marker": {
             "colorbar": {
              "outlinewidth": 0,
              "ticks": ""
             }
            },
            "type": "scattergl"
           }
          ],
          "scattermapbox": [
           {
            "marker": {
             "colorbar": {
              "outlinewidth": 0,
              "ticks": ""
             }
            },
            "type": "scattermapbox"
           }
          ],
          "scatterpolar": [
           {
            "marker": {
             "colorbar": {
              "outlinewidth": 0,
              "ticks": ""
             }
            },
            "type": "scatterpolar"
           }
          ],
          "scatterpolargl": [
           {
            "marker": {
             "colorbar": {
              "outlinewidth": 0,
              "ticks": ""
             }
            },
            "type": "scatterpolargl"
           }
          ],
          "scatterternary": [
           {
            "marker": {
             "colorbar": {
              "outlinewidth": 0,
              "ticks": ""
             }
            },
            "type": "scatterternary"
           }
          ],
          "surface": [
           {
            "colorbar": {
             "outlinewidth": 0,
             "ticks": ""
            },
            "colorscale": [
             [
              0,
              "#0d0887"
             ],
             [
              0.1111111111111111,
              "#46039f"
             ],
             [
              0.2222222222222222,
              "#7201a8"
             ],
             [
              0.3333333333333333,
              "#9c179e"
             ],
             [
              0.4444444444444444,
              "#bd3786"
             ],
             [
              0.5555555555555556,
              "#d8576b"
             ],
             [
              0.6666666666666666,
              "#ed7953"
             ],
             [
              0.7777777777777778,
              "#fb9f3a"
             ],
             [
              0.8888888888888888,
              "#fdca26"
             ],
             [
              1,
              "#f0f921"
             ]
            ],
            "type": "surface"
           }
          ],
          "table": [
           {
            "cells": {
             "fill": {
              "color": "#EBF0F8"
             },
             "line": {
              "color": "white"
             }
            },
            "header": {
             "fill": {
              "color": "#C8D4E3"
             },
             "line": {
              "color": "white"
             }
            },
            "type": "table"
           }
          ]
         },
         "layout": {
          "annotationdefaults": {
           "arrowcolor": "#2a3f5f",
           "arrowhead": 0,
           "arrowwidth": 1
          },
          "autotypenumbers": "strict",
          "coloraxis": {
           "colorbar": {
            "outlinewidth": 0,
            "ticks": ""
           }
          },
          "colorscale": {
           "diverging": [
            [
             0,
             "#8e0152"
            ],
            [
             0.1,
             "#c51b7d"
            ],
            [
             0.2,
             "#de77ae"
            ],
            [
             0.3,
             "#f1b6da"
            ],
            [
             0.4,
             "#fde0ef"
            ],
            [
             0.5,
             "#f7f7f7"
            ],
            [
             0.6,
             "#e6f5d0"
            ],
            [
             0.7,
             "#b8e186"
            ],
            [
             0.8,
             "#7fbc41"
            ],
            [
             0.9,
             "#4d9221"
            ],
            [
             1,
             "#276419"
            ]
           ],
           "sequential": [
            [
             0,
             "#0d0887"
            ],
            [
             0.1111111111111111,
             "#46039f"
            ],
            [
             0.2222222222222222,
             "#7201a8"
            ],
            [
             0.3333333333333333,
             "#9c179e"
            ],
            [
             0.4444444444444444,
             "#bd3786"
            ],
            [
             0.5555555555555556,
             "#d8576b"
            ],
            [
             0.6666666666666666,
             "#ed7953"
            ],
            [
             0.7777777777777778,
             "#fb9f3a"
            ],
            [
             0.8888888888888888,
             "#fdca26"
            ],
            [
             1,
             "#f0f921"
            ]
           ],
           "sequentialminus": [
            [
             0,
             "#0d0887"
            ],
            [
             0.1111111111111111,
             "#46039f"
            ],
            [
             0.2222222222222222,
             "#7201a8"
            ],
            [
             0.3333333333333333,
             "#9c179e"
            ],
            [
             0.4444444444444444,
             "#bd3786"
            ],
            [
             0.5555555555555556,
             "#d8576b"
            ],
            [
             0.6666666666666666,
             "#ed7953"
            ],
            [
             0.7777777777777778,
             "#fb9f3a"
            ],
            [
             0.8888888888888888,
             "#fdca26"
            ],
            [
             1,
             "#f0f921"
            ]
           ]
          },
          "colorway": [
           "#636efa",
           "#EF553B",
           "#00cc96",
           "#ab63fa",
           "#FFA15A",
           "#19d3f3",
           "#FF6692",
           "#B6E880",
           "#FF97FF",
           "#FECB52"
          ],
          "font": {
           "color": "#2a3f5f"
          },
          "geo": {
           "bgcolor": "white",
           "lakecolor": "white",
           "landcolor": "#E5ECF6",
           "showlakes": true,
           "showland": true,
           "subunitcolor": "white"
          },
          "hoverlabel": {
           "align": "left"
          },
          "hovermode": "closest",
          "mapbox": {
           "style": "light"
          },
          "paper_bgcolor": "white",
          "plot_bgcolor": "#E5ECF6",
          "polar": {
           "angularaxis": {
            "gridcolor": "white",
            "linecolor": "white",
            "ticks": ""
           },
           "bgcolor": "#E5ECF6",
           "radialaxis": {
            "gridcolor": "white",
            "linecolor": "white",
            "ticks": ""
           }
          },
          "scene": {
           "xaxis": {
            "backgroundcolor": "#E5ECF6",
            "gridcolor": "white",
            "gridwidth": 2,
            "linecolor": "white",
            "showbackground": true,
            "ticks": "",
            "zerolinecolor": "white"
           },
           "yaxis": {
            "backgroundcolor": "#E5ECF6",
            "gridcolor": "white",
            "gridwidth": 2,
            "linecolor": "white",
            "showbackground": true,
            "ticks": "",
            "zerolinecolor": "white"
           },
           "zaxis": {
            "backgroundcolor": "#E5ECF6",
            "gridcolor": "white",
            "gridwidth": 2,
            "linecolor": "white",
            "showbackground": true,
            "ticks": "",
            "zerolinecolor": "white"
           }
          },
          "shapedefaults": {
           "line": {
            "color": "#2a3f5f"
           }
          },
          "ternary": {
           "aaxis": {
            "gridcolor": "white",
            "linecolor": "white",
            "ticks": ""
           },
           "baxis": {
            "gridcolor": "white",
            "linecolor": "white",
            "ticks": ""
           },
           "bgcolor": "#E5ECF6",
           "caxis": {
            "gridcolor": "white",
            "linecolor": "white",
            "ticks": ""
           }
          },
          "title": {
           "x": 0.05
          },
          "xaxis": {
           "automargin": true,
           "gridcolor": "white",
           "linecolor": "white",
           "ticks": "",
           "title": {
            "standoff": 15
           },
           "zerolinecolor": "white",
           "zerolinewidth": 2
          },
          "yaxis": {
           "automargin": true,
           "gridcolor": "white",
           "linecolor": "white",
           "ticks": "",
           "title": {
            "standoff": 15
           },
           "zerolinecolor": "white",
           "zerolinewidth": 2
          }
         }
        },
        "title": {
         "text": "Scatter Plot 3D"
        }
       }
      },
      "image/png": "[encoded data removed]",
      "text/html": [
       "<div>                            <div id=\"f3db3468-fd7f-4b16-96b2-15f375d18ad7\" class=\"plotly-graph-div\" style=\"height:525px; width:100%;\"></div>            <script type=\"text/javascript\">                require([\"plotly\"], function(Plotly) {                    window.PLOTLYENV=window.PLOTLYENV || {};                                    if (document.getElementById(\"f3db3468-fd7f-4b16-96b2-15f375d18ad7\")) {                    Plotly.newPlot(                        \"f3db3468-fd7f-4b16-96b2-15f375d18ad7\",                        [{\"hovertemplate\":\"X1=%{x}<br>X2=%{y}<br>Y=%{z}<extra></extra>\",\"legendgroup\":\"\",\"marker\":{\"color\":\"#636efa\",\"symbol\":\"circle\"},\"mode\":\"markers\",\"name\":\"\",\"scene\":\"scene\",\"showlegend\":false,\"x\":[50,40,60,55,45,65,70,75,80,90,89,87,90,85,73,62,55],\"y\":[20,25,30,35,40,50,55,60,65,70,66,78,72,60,50,70,65],\"z\":[60,55,65,70,62,75,80,85,90,95,77,87,85,80,88,70,75],\"type\":\"scatter3d\"},{\"colorscale\":[[0.0,\"#440154\"],[0.1111111111111111,\"#482878\"],[0.2222222222222222,\"#3e4989\"],[0.3333333333333333,\"#31688e\"],[0.4444444444444444,\"#26828e\"],[0.5555555555555556,\"#1f9e89\"],[0.6666666666666666,\"#35b779\"],[0.7777777777777778,\"#6ece58\"],[0.8888888888888888,\"#b5de2b\"],[1.0,\"#fde725\"]],\"opacity\":0.8,\"x\":[[50,40,60,55,45,65,70,75,80,90,89,87,90,85,73,62,55],[50,40,60,55,45,65,70,75,80,90,89,87,90,85,73,62,55],[50,40,60,55,45,65,70,75,80,90,89,87,90,85,73,62,55],[50,40,60,55,45,65,70,75,80,90,89,87,90,85,73,62,55],[50,40,60,55,45,65,70,75,80,90,89,87,90,85,73,62,55],[50,40,60,55,45,65,70,75,80,90,89,87,90,85,73,62,55],[50,40,60,55,45,65,70,75,80,90,89,87,90,85,73,62,55],[50,40,60,55,45,65,70,75,80,90,89,87,90,85,73,62,55],[50,40,60,55,45,65,70,75,80,90,89,87,90,85,73,62,55],[50,40,60,55,45,65,70,75,80,90,89,87,90,85,73,62,55],[50,40,60,55,45,65,70,75,80,90,89,87,90,85,73,62,55],[50,40,60,55,45,65,70,75,80,90,89,87,90,85,73,62,55],[50,40,60,55,45,65,70,75,80,90,89,87,90,85,73,62,55],[50,40,60,55,45,65,70,75,80,90,89,87,90,85,73,62,55],[50,40,60,55,45,65,70,75,80,90,89,87,90,85,73,62,55],[50,40,60,55,45,65,70,75,80,90,89,87,90,85,73,62,55],[50,40,60,55,45,65,70,75,80,90,89,87,90,85,73,62,55]],\"y\":[[20,20,20,20,20,20,20,20,20,20,20,20,20,20,20,20,20],[25,25,25,25,25,25,25,25,25,25,25,25,25,25,25,25,25],[30,30,30,30,30,30,30,30,30,30,30,30,30,30,30,30,30],[35,35,35,35,35,35,35,35,35,35,35,35,35,35,35,35,35],[40,40,40,40,40,40,40,40,40,40,40,40,40,40,40,40,40],[50,50,50,50,50,50,50,50,50,50,50,50,50,50,50,50,50],[55,55,55,55,55,55,55,55,55,55,55,55,55,55,55,55,55],[60,60,60,60,60,60,60,60,60,60,60,60,60,60,60,60,60],[65,65,65,65,65,65,65,65,65,65,65,65,65,65,65,65,65],[70,70,70,70,70,70,70,70,70,70,70,70,70,70,70,70,70],[66,66,66,66,66,66,66,66,66,66,66,66,66,66,66,66,66],[78,78,78,78,78,78,78,78,78,78,78,78,78,78,78,78,78],[72,72,72,72,72,72,72,72,72,72,72,72,72,72,72,72,72],[60,60,60,60,60,60,60,60,60,60,60,60,60,60,60,60,60],[50,50,50,50,50,50,50,50,50,50,50,50,50,50,50,50,50],[70,70,70,70,70,70,70,70,70,70,70,70,70,70,70,70,70],[65,65,65,65,65,65,65,65,65,65,65,65,65,65,65,65,65]],\"z\":[[61.91133613878491,57.38019288888378,66.44247938868604,64.17690776373547,59.645764513834344,68.7080510136366,70.97362263858717,73.23919426353774,75.50476588848831,80.03590913838944,79.58279481339933,78.67656616341911,80.03590913838944,77.77033751343888,72.3329656135575,67.34870803866627,64.17690776373547],[62.7962537160076,58.265110466106464,67.32739696590872,65.06182534095815,60.53068209105703,69.59296859085929,71.85854021580985,74.12411184076042,76.38968346571099,80.92082671561212,80.46771239062201,79.56148374064179,80.92082671561212,78.65525509066156,73.21788319078019,68.23362561588895,65.06182534095815],[63.68117129323028,59.150028043329144,68.21231454313141,65.94674291818083,61.41559966827971,70.47788616808197,72.74345779303255,75.0090294179831,77.27460104293368,81.80574429283482,81.3526299678447,80.44640131786448,81.80574429283482,79.54017266788424,74.10280076800288,69.11854319311163,65.94674291818083],[64.56608887045296,60.034945620551824,69.0972321203541,66.83166049540353,62.30051724550239,71.36280374530466,73.62837537025523,75.8939469952058,78.15951862015636,82.6906618700575,82.23754754506739,81.33131889508716,82.6906618700575,80.42509024510693,74.98771834522556,70.00346077033431,66.83166049540353],[65.45100644767564,60.91986319777451,69.98214969757677,67.7165780726262,63.18543482272508,72.24772132252734,74.51329294747791,76.77886457242847,79.04443619737904,83.57557944728018,83.12246512229007,82.21623647230984,83.57557944728018,81.31000782232961,75.87263592244824,70.888378347557,67.7165780726262],[67.22084160212101,62.68969835221988,71.75198485202213,69.48641322707158,64.95526997717045,74.01755647697271,76.28312810192327,78.54869972687385,80.8142713518244,85.34541460172554,84.89230027673543,83.9860716267552,85.34541460172554,83.07984297677498,77.6424710768936,72.65821350200237,69.48641322707158],[68.10575917934369,63.57461592944256,72.63690242924483,70.37133080429426,65.84018755439313,74.9024740541954,77.16804567914596,79.43361730409653,81.6991889290471,86.23033217894823,85.77721785395812,84.8709892039779,86.23033217894823,83.96476055399766,78.5273886541163,73.54313107922505,70.37133080429426],[68.99067675656639,64.45953350666525,73.52182000646751,71.25624838151694,66.7251051316158,75.78739163141807,78.05296325636864,80.31853488131921,82.58410650626978,87.11524975617091,86.6621354311808,85.75590678120058,87.11524975617091,84.84967813122034,79.41230623133897,74.42804865644774,71.25624838151694],[69.87559433378907,65.34445108388793,74.40673758369019,72.14116595873962,67.6100227088385,76.67230920864075,78.93788083359132,81.20345245854189,83.46902408349246,88.00016733339359,87.54705300840348,86.64082435842326,88.00016733339359,85.73459570844302,80.29722380856165,75.31296623367042,72.14116595873962],[70.76051191101175,66.22936866111061,75.29165516091288,73.0260835359623,68.49494028606118,77.55722678586343,79.82279841081402,82.08837003576457,84.35394166071515,88.88508491061629,88.43197058562617,87.52574193564595,88.88508491061629,86.6195132856657,81.18214138578435,76.1978838108931,73.0260835359623],[70.0525778492336,65.52143459933247,74.58372109913472,72.31814947418417,67.78700622428303,76.8492927240853,79.11486434903586,81.38043597398644,83.64600759893699,88.17715084883812,87.72403652384801,86.81780787386779,88.17715084883812,85.91157922388757,80.47420732400619,75.48994974911496,72.31814947418417],[72.17638003456804,67.6452367846669,76.70752328446918,74.4419516595186,69.91080840961747,78.97309490941973,81.23866653437031,83.50423815932086,85.76980978427144,90.30095303417258,89.84783870918247,88.94161005920225,90.30095303417258,88.035381409222,82.59800950934064,77.6137519344494,74.4419516595186],[71.11447894190081,66.58333569199968,75.64562219180195,73.38005056685138,68.84890731695026,77.91119381675252,80.17676544170308,82.44233706665365,84.70790869160422,89.23905194150535,88.78593761651524,87.87970896653502,89.23905194150535,86.97348031655478,81.53610841667341,76.55185084178217,73.38005056685138],[68.99067675656639,64.45953350666525,73.52182000646751,71.25624838151694,66.7251051316158,75.78739163141807,78.05296325636864,80.31853488131921,82.58410650626978,87.11524975617091,86.6621354311808,85.75590678120058,87.11524975617091,84.84967813122034,79.41230623133897,74.42804865644774,71.25624838151694],[67.22084160212101,62.68969835221988,71.75198485202213,69.48641322707158,64.95526997717045,74.01755647697271,76.28312810192327,78.54869972687385,80.8142713518244,85.34541460172554,84.89230027673543,83.9860716267552,85.34541460172554,83.07984297677498,77.6424710768936,72.65821350200237,69.48641322707158],[70.76051191101175,66.22936866111061,75.29165516091288,73.0260835359623,68.49494028606118,77.55722678586343,79.82279841081402,82.08837003576457,84.35394166071515,88.88508491061629,88.43197058562617,87.52574193564595,88.88508491061629,86.6195132856657,81.18214138578435,76.1978838108931,73.0260835359623],[69.87559433378907,65.34445108388793,74.40673758369019,72.14116595873962,67.6100227088385,76.67230920864075,78.93788083359132,81.20345245854189,83.46902408349246,88.00016733339359,87.54705300840348,86.64082435842326,88.00016733339359,85.73459570844302,80.29722380856165,75.31296623367042,72.14116595873962]],\"type\":\"surface\"}],                        {\"template\":{\"data\":{\"histogram2dcontour\":[{\"type\":\"histogram2dcontour\",\"colorbar\":{\"outlinewidth\":0,\"ticks\":\"\"},\"colorscale\":[[0.0,\"#0d0887\"],[0.1111111111111111,\"#46039f\"],[0.2222222222222222,\"#7201a8\"],[0.3333333333333333,\"#9c179e\"],[0.4444444444444444,\"#bd3786\"],[0.5555555555555556,\"#d8576b\"],[0.6666666666666666,\"#ed7953\"],[0.7777777777777778,\"#fb9f3a\"],[0.8888888888888888,\"#fdca26\"],[1.0,\"#f0f921\"]]}],\"choropleth\":[{\"type\":\"choropleth\",\"colorbar\":{\"outlinewidth\":0,\"ticks\":\"\"}}],\"histogram2d\":[{\"type\":\"histogram2d\",\"colorbar\":{\"outlinewidth\":0,\"ticks\":\"\"},\"colorscale\":[[0.0,\"#0d0887\"],[0.1111111111111111,\"#46039f\"],[0.2222222222222222,\"#7201a8\"],[0.3333333333333333,\"#9c179e\"],[0.4444444444444444,\"#bd3786\"],[0.5555555555555556,\"#d8576b\"],[0.6666666666666666,\"#ed7953\"],[0.7777777777777778,\"#fb9f3a\"],[0.8888888888888888,\"#fdca26\"],[1.0,\"#f0f921\"]]}],\"heatmap\":[{\"type\":\"heatmap\",\"colorbar\":{\"outlinewidth\":0,\"ticks\":\"\"},\"colorscale\":[[0.0,\"#0d0887\"],[0.1111111111111111,\"#46039f\"],[0.2222222222222222,\"#7201a8\"],[0.3333333333333333,\"#9c179e\"],[0.4444444444444444,\"#bd3786\"],[0.5555555555555556,\"#d8576b\"],[0.6666666666666666,\"#ed7953\"],[0.7777777777777778,\"#fb9f3a\"],[0.8888888888888888,\"#fdca26\"],[1.0,\"#f0f921\"]]}],\"heatmapgl\":[{\"type\":\"heatmapgl\",\"colorbar\":{\"outlinewidth\":0,\"ticks\":\"\"},\"colorscale\":[[0.0,\"#0d0887\"],[0.1111111111111111,\"#46039f\"],[0.2222222222222222,\"#7201a8\"],[0.3333333333333333,\"#9c179e\"],[0.4444444444444444,\"#bd3786\"],[0.5555555555555556,\"#d8576b\"],[0.6666666666666666,\"#ed7953\"],[0.7777777777777778,\"#fb9f3a\"],[0.8888888888888888,\"#fdca26\"],[1.0,\"#f0f921\"]]}],\"contourcarpet\":[{\"type\":\"contourcarpet\",\"colorbar\":{\"outlinewidth\":0,\"ticks\":\"\"}}],\"contour\":[{\"type\":\"contour\",\"colorbar\":{\"outlinewidth\":0,\"ticks\":\"\"},\"colorscale\":[[0.0,\"#0d0887\"],[0.1111111111111111,\"#46039f\"],[0.2222222222222222,\"#7201a8\"],[0.3333333333333333,\"#9c179e\"],[0.4444444444444444,\"#bd3786\"],[0.5555555555555556,\"#d8576b\"],[0.6666666666666666,\"#ed7953\"],[0.7777777777777778,\"#fb9f3a\"],[0.8888888888888888,\"#fdca26\"],[1.0,\"#f0f921\"]]}],\"surface\":[{\"type\":\"surface\",\"colorbar\":{\"outlinewidth\":0,\"ticks\":\"\"},\"colorscale\":[[0.0,\"#0d0887\"],[0.1111111111111111,\"#46039f\"],[0.2222222222222222,\"#7201a8\"],[0.3333333333333333,\"#9c179e\"],[0.4444444444444444,\"#bd3786\"],[0.5555555555555556,\"#d8576b\"],[0.6666666666666666,\"#ed7953\"],[0.7777777777777778,\"#fb9f3a\"],[0.8888888888888888,\"#fdca26\"],[1.0,\"#f0f921\"]]}],\"mesh3d\":[{\"type\":\"mesh3d\",\"colorbar\":{\"outlinewidth\":0,\"ticks\":\"\"}}],\"scatter\":[{\"fillpattern\":{\"fillmode\":\"overlay\",\"size\":10,\"solidity\":0.2},\"type\":\"scatter\"}],\"parcoords\":[{\"type\":\"parcoords\",\"line\":{\"colorbar\":{\"outlinewidth\":0,\"ticks\":\"\"}}}],\"scatterpolargl\":[{\"type\":\"scatterpolargl\",\"marker\":{\"colorbar\":{\"outlinewidth\":0,\"ticks\":\"\"}}}],\"bar\":[{\"error_x\":{\"color\":\"#2a3f5f\"},\"error_y\":{\"color\":\"#2a3f5f\"},\"marker\":{\"line\":{\"color\":\"#E5ECF6\",\"width\":0.5},\"pattern\":{\"fillmode\":\"overlay\",\"size\":10,\"solidity\":0.2}},\"type\":\"bar\"}],\"scattergeo\":[{\"type\":\"scattergeo\",\"marker\":{\"colorbar\":{\"outlinewidth\":0,\"ticks\":\"\"}}}],\"scatterpolar\":[{\"type\":\"scatterpolar\",\"marker\":{\"colorbar\":{\"outlinewidth\":0,\"ticks\":\"\"}}}],\"histogram\":[{\"marker\":{\"pattern\":{\"fillmode\":\"overlay\",\"size\":10,\"solidity\":0.2}},\"type\":\"histogram\"}],\"scattergl\":[{\"type\":\"scattergl\",\"marker\":{\"colorbar\":{\"outlinewidth\":0,\"ticks\":\"\"}}}],\"scatter3d\":[{\"type\":\"scatter3d\",\"line\":{\"colorbar\":{\"outlinewidth\":0,\"ticks\":\"\"}},\"marker\":{\"colorbar\":{\"outlinewidth\":0,\"ticks\":\"\"}}}],\"scattermapbox\":[{\"type\":\"scattermapbox\",\"marker\":{\"colorbar\":{\"outlinewidth\":0,\"ticks\":\"\"}}}],\"scatterternary\":[{\"type\":\"scatterternary\",\"marker\":{\"colorbar\":{\"outlinewidth\":0,\"ticks\":\"\"}}}],\"scattercarpet\":[{\"type\":\"scattercarpet\",\"marker\":{\"colorbar\":{\"outlinewidth\":0,\"ticks\":\"\"}}}],\"carpet\":[{\"aaxis\":{\"endlinecolor\":\"#2a3f5f\",\"gridcolor\":\"white\",\"linecolor\":\"white\",\"minorgridcolor\":\"white\",\"startlinecolor\":\"#2a3f5f\"},\"baxis\":{\"endlinecolor\":\"#2a3f5f\",\"gridcolor\":\"white\",\"linecolor\":\"white\",\"minorgridcolor\":\"white\",\"startlinecolor\":\"#2a3f5f\"},\"type\":\"carpet\"}],\"table\":[{\"cells\":{\"fill\":{\"color\":\"#EBF0F8\"},\"line\":{\"color\":\"white\"}},\"header\":{\"fill\":{\"color\":\"#C8D4E3\"},\"line\":{\"color\":\"white\"}},\"type\":\"table\"}],\"barpolar\":[{\"marker\":{\"line\":{\"color\":\"#E5ECF6\",\"width\":0.5},\"pattern\":{\"fillmode\":\"overlay\",\"size\":10,\"solidity\":0.2}},\"type\":\"barpolar\"}],\"pie\":[{\"automargin\":true,\"type\":\"pie\"}]},\"layout\":{\"autotypenumbers\":\"strict\",\"colorway\":[\"#636efa\",\"#EF553B\",\"#00cc96\",\"#ab63fa\",\"#FFA15A\",\"#19d3f3\",\"#FF6692\",\"#B6E880\",\"#FF97FF\",\"#FECB52\"],\"font\":{\"color\":\"#2a3f5f\"},\"hovermode\":\"closest\",\"hoverlabel\":{\"align\":\"left\"},\"paper_bgcolor\":\"white\",\"plot_bgcolor\":\"#E5ECF6\",\"polar\":{\"bgcolor\":\"#E5ECF6\",\"angularaxis\":{\"gridcolor\":\"white\",\"linecolor\":\"white\",\"ticks\":\"\"},\"radialaxis\":{\"gridcolor\":\"white\",\"linecolor\":\"white\",\"ticks\":\"\"}},\"ternary\":{\"bgcolor\":\"#E5ECF6\",\"aaxis\":{\"gridcolor\":\"white\",\"linecolor\":\"white\",\"ticks\":\"\"},\"baxis\":{\"gridcolor\":\"white\",\"linecolor\":\"white\",\"ticks\":\"\"},\"caxis\":{\"gridcolor\":\"white\",\"linecolor\":\"white\",\"ticks\":\"\"}},\"coloraxis\":{\"colorbar\":{\"outlinewidth\":0,\"ticks\":\"\"}},\"colorscale\":{\"sequential\":[[0.0,\"#0d0887\"],[0.1111111111111111,\"#46039f\"],[0.2222222222222222,\"#7201a8\"],[0.3333333333333333,\"#9c179e\"],[0.4444444444444444,\"#bd3786\"],[0.5555555555555556,\"#d8576b\"],[0.6666666666666666,\"#ed7953\"],[0.7777777777777778,\"#fb9f3a\"],[0.8888888888888888,\"#fdca26\"],[1.0,\"#f0f921\"]],\"sequentialminus\":[[0.0,\"#0d0887\"],[0.1111111111111111,\"#46039f\"],[0.2222222222222222,\"#7201a8\"],[0.3333333333333333,\"#9c179e\"],[0.4444444444444444,\"#bd3786\"],[0.5555555555555556,\"#d8576b\"],[0.6666666666666666,\"#ed7953\"],[0.7777777777777778,\"#fb9f3a\"],[0.8888888888888888,\"#fdca26\"],[1.0,\"#f0f921\"]],\"diverging\":[[0,\"#8e0152\"],[0.1,\"#c51b7d\"],[0.2,\"#de77ae\"],[0.3,\"#f1b6da\"],[0.4,\"#fde0ef\"],[0.5,\"#f7f7f7\"],[0.6,\"#e6f5d0\"],[0.7,\"#b8e186\"],[0.8,\"#7fbc41\"],[0.9,\"#4d9221\"],[1,\"#276419\"]]},\"xaxis\":{\"gridcolor\":\"white\",\"linecolor\":\"white\",\"ticks\":\"\",\"title\":{\"standoff\":15},\"zerolinecolor\":\"white\",\"automargin\":true,\"zerolinewidth\":2},\"yaxis\":{\"gridcolor\":\"white\",\"linecolor\":\"white\",\"ticks\":\"\",\"title\":{\"standoff\":15},\"zerolinecolor\":\"white\",\"automargin\":true,\"zerolinewidth\":2},\"scene\":{\"xaxis\":{\"backgroundcolor\":\"#E5ECF6\",\"gridcolor\":\"white\",\"linecolor\":\"white\",\"showbackground\":true,\"ticks\":\"\",\"zerolinecolor\":\"white\",\"gridwidth\":2},\"yaxis\":{\"backgroundcolor\":\"#E5ECF6\",\"gridcolor\":\"white\",\"linecolor\":\"white\",\"showbackground\":true,\"ticks\":\"\",\"zerolinecolor\":\"white\",\"gridwidth\":2},\"zaxis\":{\"backgroundcolor\":\"#E5ECF6\",\"gridcolor\":\"white\",\"linecolor\":\"white\",\"showbackground\":true,\"ticks\":\"\",\"zerolinecolor\":\"white\",\"gridwidth\":2}},\"shapedefaults\":{\"line\":{\"color\":\"#2a3f5f\"}},\"annotationdefaults\":{\"arrowcolor\":\"#2a3f5f\",\"arrowhead\":0,\"arrowwidth\":1},\"geo\":{\"bgcolor\":\"white\",\"landcolor\":\"#E5ECF6\",\"subunitcolor\":\"white\",\"showland\":true,\"showlakes\":true,\"lakecolor\":\"white\"},\"title\":{\"x\":0.05},\"mapbox\":{\"style\":\"light\"}}},\"scene\":{\"domain\":{\"x\":[0.0,1.0],\"y\":[0.0,1.0]},\"xaxis\":{\"title\":{\"text\":\"X1\"}},\"yaxis\":{\"title\":{\"text\":\"X2\"}},\"zaxis\":{\"title\":{\"text\":\"Y\"}}},\"legend\":{\"tracegroupgap\":0},\"title\":{\"text\":\"Scatter Plot 3D\"}},                        {\"responsive\": true}                    ).then(function(){\n",
       "                            \n",
       "var gd = document.getElementById('f3db3468-fd7f-4b16-96b2-15f375d18ad7');\n",
       "var x = new MutationObserver(function (mutations, observer) {{\n",
       "        var display = window.getComputedStyle(gd).display;\n",
       "        if (!display || display === 'none') {{\n",
       "            console.log([gd, 'removed!']);\n",
       "            Plotly.purge(gd);\n",
       "            observer.disconnect();\n",
       "        }}\n",
       "}});\n",
       "\n",
       "// Listen for the removal of the full notebook cells\n",
       "var notebookContainer = gd.closest('#notebook-container');\n",
       "if (notebookContainer) {{\n",
       "    x.observe(notebookContainer, {childList: true});\n",
       "}}\n",
       "\n",
       "// Listen for the clearing of the current output cell\n",
       "var outputEl = gd.closest('.output');\n",
       "if (outputEl) {{\n",
       "    x.observe(outputEl, {childList: true});\n",
       "}}\n",
       "\n",
       "                        })                };                });            </script>        </div>"
      ]
     },
     "metadata": {},
     "output_type": "display_data"
    },
    {
     "data": {
      "text/plain": [
       "' from statsmodels.stats.diagnostic import het_breuschpagan\\n\\n_, p_value, _, _ = het_breuschpagan(model.resid, X)\\nif p_value < 0.05:\\n    print(\"Terdapat bukti heteroskedastisitas.\")\\nelse:\\n    print(\"Tidak terdapat bukti heteroskedastisitas.\") '"
      ]
     },
     "execution_count": 29,
     "metadata": {},
     "output_type": "execute_result"
    }
   ],
   "source": [
    "# Scatter plot untuk melihat hubungan antara X1, X2, dan Y\n",
    "fig = px.scatter_3d(df, x='X1', y='X2', z='Y', title='Scatter Plot 3D')\n",
    "\n",
    "# Regresi berganda sebagai bidang\n",
    "xx, yy = np.meshgrid(df['X1'], df['X2'])\n",
    "zz = model.params['const'] + model.params['X1'] * xx + model.params['X2'] * yy\n",
    "fig.add_trace(go.Surface(x=xx, y=yy, z=zz, opacity=0.8, colorscale='Viridis'))\n",
    "\n",
    "fig.show()\n",
    "\n",
    "''' from statsmodels.stats.diagnostic import het_breuschpagan\n",
    "\n",
    "_, p_value, _, _ = het_breuschpagan(model.resid, X)\n",
    "if p_value < 0.05:\n",
    "    print(\"Terdapat bukti heteroskedastisitas.\")\n",
    "else:\n",
    "    print(\"Tidak terdapat bukti heteroskedastisitas.\") '''"
   ]
  },
  {
   "cell_type": "markdown",
   "id": "b9e30b50-0d67-4901-8963-901687fd906d",
   "metadata": {},
   "source": [
    "Dari visualisasi diatas, kita memiliki titik-titik tiga dimensi (3D) yang mewakili data dari variabel X1, X2, dan Y. Setiap titik dalam grafik adalah titik data aktual Anda, dan posisinya menggambarkan nilai X1 dan X2 di sisi horizontal serta nilai Y di sisi vertikal. Kita dapat melihat sebaran data secara visual dalam bentuk titik-titik 3D.\n",
    "\n",
    "Gambar diatas juga menampilkan permukaan yang melintang di atas titik-titik data. Permukaan ini merupakan hasil dari regresi berganda yang Anda lakukan. Ini adalah cara visual untuk menunjukkan bagaimana model regresi berusaha memodelkan hubungan antara variabel X1, X2, dan Y. Permukaan ini mencoba memprediksi nilai Y berdasarkan nilai-nilai X1 dan X2, dan menciptakan bidang 3D yang menunjukkan perkiraan hasil dari model."
   ]
  }
 ],
 "metadata": {
  "kernelspec": {
   "display_name": "Python 3 (ipykernel)",
   "language": "python",
   "name": "python3"
  },
  "language_info": {
   "codemirror_mode": {
    "name": "ipython",
    "version": 3
   },
   "file_extension": ".py",
   "mimetype": "text/x-python",
   "name": "python",
   "nbconvert_exporter": "python",
   "pygments_lexer": "ipython3",
   "version": "3.9.13"
  }
 },
 "nbformat": 4,
 "nbformat_minor": 5
}
